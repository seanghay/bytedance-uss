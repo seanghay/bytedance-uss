{
  "nbformat": 4,
  "nbformat_minor": 0,
  "metadata": {
    "colab": {
      "provenance": [],
      "gpuType": "T4"
    },
    "kernelspec": {
      "name": "python3",
      "display_name": "Python 3"
    },
    "language_info": {
      "name": "python"
    },
    "accelerator": "GPU"
  },
  "cells": [
    {
      "cell_type": "markdown",
      "source": [
        "# Universal Source Separation (USS) with Weakly labelled Data\n",
        "\n",
        "This is the PyTorch implementation of the Universal Source Separation with Weakly labelled Data [1]. The USS system can automatically detect and separate sound classes from a real recording. The USS system can separate up to hundreds of sound classes sound classes in a hierarchical ontology structure. The USS system is trained on the weakly labelled AudioSet dataset only. "
      ],
      "metadata": {
        "id": "8kJRgokSrMSq"
      }
    },
    {
      "cell_type": "code",
      "execution_count": 36,
      "metadata": {
        "id": "kYc0lNI1j863"
      },
      "outputs": [],
      "source": [
        "#@title Install yt-dlp & uss\n",
        "%%capture\n",
        "\n",
        "!pip install yt-dlp\n",
        "!pip install uss==0.0.4"
      ]
    },
    {
      "cell_type": "code",
      "source": [
        "#@title Download Cnn14_mAP=0.431.pth\n",
        "%%capture\n",
        "\n",
        "!wget -O Cnn14_mAP=0.431.pth https://huggingface.co/thelou1s/panns-inference/resolve/main/Cnn14_mAP%3D0.431.pth\n",
        "!cp Cnn14_mAP=0.431.pth /root/.cache/panns/Cnn14_mAP=0.431.pth"
      ],
      "metadata": {
        "id": "JM6QkcgrkstY"
      },
      "execution_count": 37,
      "outputs": []
    },
    {
      "cell_type": "code",
      "source": [
        "#@title Download audio.wav\n",
        "%%capture\n",
        "\n",
        "!yt-dlp -x --audio-format wav --output audio.wav https://www.youtube.com/watch?v=-YGPUuG2WtQ"
      ],
      "metadata": {
        "id": "t8oyH3wHkQMK"
      },
      "execution_count": 38,
      "outputs": []
    },
    {
      "cell_type": "code",
      "source": [
        "#@title Separation\n",
        "\n",
        "!uss -i audio.wav"
      ],
      "metadata": {
        "colab": {
          "base_uri": "https://localhost:8080/"
        },
        "id": "Oj-wS33vkhbp",
        "outputId": "5f8b24c1-efab-4b6d-99bb-a3a419e80f3b"
      },
      "execution_count": 39,
      "outputs": [
        {
          "output_type": "stream",
          "name": "stdout",
          "text": [
            "Using cuda.\n",
            "Loading model ...\n",
            "Traceback (most recent call last):\n",
            "  File \"/usr/local/bin/uss\", line 8, in <module>\n",
            "    sys.exit(main())\n",
            "  File \"/usr/local/lib/python3.10/dist-packages/uss/uss_inference.py\", line 58, in main\n",
            "    separate(args)\n",
            "  File \"/usr/local/lib/python3.10/dist-packages/uss/inference.py\", line 73, in separate\n",
            "    at_model = load_pretrained_panns(\n",
            "  File \"/usr/local/lib/python3.10/dist-packages/uss/utils.py\", line 105, in load_pretrained_panns\n",
            "    model = Model(sample_rate=32000, window_size=1024, hop_size=320,\n",
            "  File \"/usr/local/lib/python3.10/dist-packages/panns_inference/models.py\", line 97, in __init__\n",
            "    self.spectrogram_extractor = Spectrogram(n_fft=window_size, hop_length=hop_size, \n",
            "  File \"/usr/local/lib/python3.10/dist-packages/torchlibrosa/stft.py\", line 645, in __init__\n",
            "    self.stft = STFT(n_fft=n_fft, hop_length=hop_length,\n",
            "  File \"/usr/local/lib/python3.10/dist-packages/torchlibrosa/stft.py\", line 210, in __init__\n",
            "    np.real(self.W[:, 0 : out_channels] * fft_window[:, None]).T)[:, None, :]\n",
            "  File \"<__array_function__ internals>\", line 177, in real\n",
            "KeyboardInterrupt\n",
            "^C\n"
          ]
        }
      ]
    },
    {
      "cell_type": "code",
      "source": [
        "#@title Convert Wav to MP3 and create `audio.tar.gz`\n",
        "%%capture\n",
        "\n",
        "# mp3 dir\n",
        "!mkdir -p audio/\n",
        "\n",
        "# convert wav to mp3\n",
        "!find separated_results/ -name \"*.wav\" -exec ffmpeg -y -i {} {}.mp3 \\;\n",
        "\n",
        "# copy mp3 to audio/ folder\n",
        "!find separated_results/ -name \"*.mp3\" -exec mv {} /content/audio \\;\n",
        "\n",
        "# create audio.tar.gz for faster download\n",
        "!tar -czf audio.tar.gz audio/"
      ],
      "metadata": {
        "id": "FZgFecJPljHr"
      },
      "execution_count": 40,
      "outputs": []
    }
  ]
}